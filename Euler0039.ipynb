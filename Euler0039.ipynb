{
  "nbformat": 4,
  "nbformat_minor": 0,
  "metadata": {
    "colab": {
      "provenance": [],
      "authorship_tag": "ABX9TyNFUHIIvfmb4dV941xjwsCf",
      "include_colab_link": true
    },
    "kernelspec": {
      "name": "python3",
      "display_name": "Python 3"
    },
    "language_info": {
      "name": "python"
    }
  },
  "cells": [
    {
      "cell_type": "markdown",
      "metadata": {
        "id": "view-in-github",
        "colab_type": "text"
      },
      "source": [
        "<a href=\"https://colab.research.google.com/github/nnnkst/EulerProblemsPython/blob/main/Euler0039.ipynb\" target=\"_parent\"><img src=\"https://colab.research.google.com/assets/colab-badge.svg\" alt=\"Open In Colab\"/></a>"
      ]
    },
    {
      "cell_type": "code",
      "source": [
        "import math"
      ],
      "metadata": {
        "id": "ulNdXFUgwl9p"
      },
      "execution_count": 4,
      "outputs": []
    },
    {
      "cell_type": "code",
      "execution_count": 5,
      "metadata": {
        "id": "pOtF73_puvXK"
      },
      "outputs": [],
      "source": [
        "def ppt(limit):\n",
        "    triples = []\n",
        "    for m in range(2,int(math.sqrt(limit))+1):\n",
        "        for n in range(1,m):\n",
        "            if (m+n) % 2 == 1 and math.gcd(m,n) == 1:\n",
        "                a = m**2 + n**2\n",
        "                b = m**2 - n**2\n",
        "                c = 2*m*n\n",
        "                p = max(a,b,c)\n",
        "                for k in range(1,int(limit/p)+1):\n",
        "                    triples.append([k*b,k*c,k*a])\n",
        "    return triples"
      ]
    },
    {
      "cell_type": "code",
      "source": [
        "def ppt(limit):\n",
        "  ttt = [0]*1500001\n",
        "  triples = []\n",
        "  for m in range(2,int(math.sqrt(limit))+1):\n",
        "      for n in range(1,m):\n",
        "          if (m+n) % 2 == 1 and math.gcd(m,n) == 1:\n",
        "              a = m**2 + n**2\n",
        "              b = m**2 - n**2\n",
        "              c = 2*m*n\n",
        "              p = max(a,b,c)\n",
        "              for k in range(1,int(limit/p)+1):\n",
        "                if(k*(a+b+c)<=1500000):\n",
        "                  ttt[k*(a+b+c)] += 1\n",
        "  return ttt.count(1)"
      ],
      "metadata": {
        "id": "CCmjgPbUvu3J"
      },
      "execution_count": 10,
      "outputs": []
    },
    {
      "cell_type": "code",
      "source": [
        "ppt(15000000)"
      ],
      "metadata": {
        "colab": {
          "base_uri": "https://localhost:8080/"
        },
        "id": "pnANhNLWwob3",
        "outputId": "41f9d8a1-aab4-4c6c-db7c-2b0f3a6d7e28"
      },
      "execution_count": 14,
      "outputs": [
        {
          "output_type": "execute_result",
          "data": {
            "text/plain": [
              "161667"
            ]
          },
          "metadata": {},
          "execution_count": 14
        }
      ]
    },
    {
      "cell_type": "code",
      "source": [],
      "metadata": {
        "id": "BNs9YQQPy6mJ"
      },
      "execution_count": null,
      "outputs": []
    }
  ]
}